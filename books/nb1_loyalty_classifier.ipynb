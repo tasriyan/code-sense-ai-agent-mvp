{
 "cells": [
  {
   "metadata": {},
   "cell_type": "markdown",
   "source": [
    "Description:\n",
    "\n",
    "Classifies according to business and technical concerns a sample project (a microservice) PlantBasedPizza.LoyaltyPoints.\n",
    "Classfication results stored as output.csv file in classification/results folder under the name of llm that performed classification.\n",
    "\n",
    "Key Features:\n",
    "\n",
    "- LLM Provider Abstraction: Strategy pattern with OpenAI, Anthropic, and Ollama providers\n",
    "- File Scanner: Scans all 4 LoyaltyPoints projects for .cs and appsettings.json files\n",
    "- Semantic Classification: Extracts business context, rules, workflows, and integration points\n",
    "- CSV Output: Structured results for the vector database\n",
    "- Intermediate Results: JSON files for debugging and comparison\n",
    "- Provider Comparison: Test all 3 LLM providers on the same code"
   ],
   "id": "a3576c787b2c36c4"
  },
  {
   "metadata": {
    "ExecuteTime": {
     "end_time": "2025-07-13T20:36:56.242226Z",
     "start_time": "2025-07-13T20:36:53.903551Z"
    }
   },
   "cell_type": "code",
   "source": [
    "from classification.code_scanner import CodeScanner\n",
    "from pathlib import Path\n",
    "from classification.classification_pipeline import ClassificationPipeline\n",
    "from dotenv import load_dotenv\n",
    "import os\n",
    "\n",
    "\n",
    "load_dotenv()\n",
    "\n",
    "LOYALTY_POINTS_APPLICATION = os.getenv(\"LOYALTY_POINTS_PROJECT_ROOT\")\n",
    "print(LOYALTY_POINTS_APPLICATION)# Update this path\n",
    "\n",
    "projects = [\n",
    "    \"PlantBasedPizza.LoyaltyPoints.Api.csproj\",\n",
    "    \"PlantBasedPizza.LoyaltyPoints.Internal.csproj\",\n",
    "    \"PlantBasedPizza.LoyaltyPoints.Shared.csproj\",\n",
    "    \"PlantBasedPizza.LoyaltyPoints.Worker.csproj\"\n",
    "]\n",
    "\n",
    "classification_results = \"results/classification\"\n",
    "def create_model_folder(model):\n",
    "    model_folder = Path(f\"{classification_results}/{model}\")\n",
    "    model_folder.mkdir(parents=True, exist_ok=True)\n",
    "\n",
    "    output_csv = f\"{model_folder}/output.csv\"\n",
    "    intermediate_results = f\"{model_folder}/intermediate_results\"\n",
    "    return output_csv, intermediate_results\n",
    "\n",
    "code_scanner = CodeScanner(LOYALTY_POINTS_APPLICATION, projects)"
   ],
   "id": "78cf5039fde3826f",
   "outputs": [
    {
     "name": "stdout",
     "output_type": "stream",
     "text": [
      "D:/src/learning/dotnet/event-driven-course/module5/src/PlantBasedPizza.LoyaltyPoints/application\n"
     ]
    }
   ],
   "execution_count": 1
  },
  {
   "metadata": {
    "ExecuteTime": {
     "end_time": "2025-07-13T20:49:26.084838Z",
     "start_time": "2025-07-13T20:44:55.641128Z"
    }
   },
   "cell_type": "code",
   "source": [
    "from llms.anthropic import AnthropicClassifier\n",
    "\n",
    "anthropic_key = os.environ.get(\"ANTHROPIC_API_KEY\")\n",
    "output_csv, intermediate_results_dir = create_model_folder(\"claude4.0\")\n",
    "anth_provider = AnthropicClassifier(api_key=anthropic_key, model=\"claude-sonnet-4-0\")\n",
    "pipeline = ClassificationPipeline(anth_provider,\n",
    "                                  scanner=code_scanner,\n",
    "                                  output_csv=output_csv,\n",
    "                                  intermediate_dir=intermediate_results_dir)\n",
    "\n",
    "print(\"\\n=== Running Classification with Anthropic ===\")\n",
    "anthropic_results = pipeline.run_classification()\n",
    "\n",
    "print(\"\\n=== Classification Complete ===\")\n",
    "print(f\"Results saved to: {output_csv}\")\n",
    "print(f\"Intermediate results in: {intermediate_results_dir}\")"
   ],
   "id": "eb56bbc259d85979",
   "outputs": [
    {
     "name": "stdout",
     "output_type": "stream",
     "text": [
      "Initialized Anthropic provider with model: claude-sonnet-4-0\n",
      "\n",
      "=== Running Classification with Anthropic ===\n",
      "Starting classification with provider: Anthropic-claude-sonnet-4-0\n",
      "Scanning code files...\n",
      "Scanned 6 files from PlantBasedPizza.LoyaltyPoints.Api.csproj\n",
      "Scanned 7 files from PlantBasedPizza.LoyaltyPoints.Internal.csproj\n",
      "Scanned 13 files from PlantBasedPizza.LoyaltyPoints.Shared.csproj\n",
      "Scanned 7 files from PlantBasedPizza.LoyaltyPoints.Worker.csproj\n",
      "Found 33 files to classify\n",
      "Classifying files...\n",
      "Classifying 1/33: PlantBasedPizza.LoyaltyPoints.Api\\ObservabilityExtensions.cs\n",
      "Classifying 2/33: PlantBasedPizza.LoyaltyPoints.Api\\Program.cs\n",
      "Classifying 3/33: PlantBasedPizza.LoyaltyPoints.Api\\appsettings.Development.json\n",
      "Classifying 4/33: PlantBasedPizza.LoyaltyPoints.Api\\appsettings.json\n",
      "Classifying 5/33: PlantBasedPizza.LoyaltyPoints.Api\\bin\\Debug\\net9.0\\appsettings.Development.json\n",
      "Classifying 6/33: PlantBasedPizza.LoyaltyPoints.Api\\bin\\Debug\\net9.0\\appsettings.json\n",
      "Classifying 7/33: PlantBasedPizza.LoyaltyPoints.Internal\\Program.cs\n",
      "Classifying 8/33: PlantBasedPizza.LoyaltyPoints.Internal\\Services\\AppCallbackService.cs\n",
      "Classifying 9/33: PlantBasedPizza.LoyaltyPoints.Internal\\Services\\LoyaltyService.cs\n",
      "Classifying 10/33: PlantBasedPizza.LoyaltyPoints.Internal\\appsettings.Development.json\n",
      "Classifying 11/33: PlantBasedPizza.LoyaltyPoints.Internal\\appsettings.json\n",
      "Classifying 12/33: PlantBasedPizza.LoyaltyPoints.Internal\\bin\\Debug\\net9.0\\appsettings.Development.json\n",
      "Classifying 13/33: PlantBasedPizza.LoyaltyPoints.Internal\\bin\\Debug\\net9.0\\appsettings.json\n",
      "Classifying 14/33: PlantBasedPizza.LoyaltyPoints.Shared\\AssemblyInfo.cs\n",
      "Classifying 15/33: PlantBasedPizza.LoyaltyPoints.Shared\\Setup.cs\n",
      "Classifying 16/33: PlantBasedPizza.LoyaltyPoints.Shared\\Adapters\\CustomerLoyaltyPointRepository.cs\n",
      "Classifying 17/33: PlantBasedPizza.LoyaltyPoints.Shared\\Core\\AddLoyaltyPointsCommand.cs\n",
      "Classifying 18/33: PlantBasedPizza.LoyaltyPoints.Shared\\Core\\AddLoyaltyPointsCommandHandler.cs\n",
      "Classifying 19/33: PlantBasedPizza.LoyaltyPoints.Shared\\Core\\CustomerLoyaltyPoints.cs\n",
      "Classifying 20/33: PlantBasedPizza.LoyaltyPoints.Shared\\Core\\CustomerLoyaltyPointsUpdated.cs\n",
      "Classifying 21/33: PlantBasedPizza.LoyaltyPoints.Shared\\Core\\ICustomerLoyaltyPointsRepository.cs\n",
      "Classifying 22/33: PlantBasedPizza.LoyaltyPoints.Shared\\Core\\InsufficientPointsException.cs\n",
      "Classifying 23/33: PlantBasedPizza.LoyaltyPoints.Shared\\Core\\LoyaltyPointHistoryDTO.cs\n",
      "Classifying 24/33: PlantBasedPizza.LoyaltyPoints.Shared\\Core\\LoyaltyPointsDTO.cs\n",
      "Classifying 25/33: PlantBasedPizza.LoyaltyPoints.Shared\\Core\\SpendLoyaltyPointsCommand.cs\n",
      "Classifying 26/33: PlantBasedPizza.LoyaltyPoints.Shared\\Core\\SpendLoyaltyPointsCommandHandler.cs\n",
      "Classifying 27/33: PlantBasedPizza.LoyaltyPoints.Worker\\OrderCompletedEvent.cs\n",
      "Classifying 28/33: PlantBasedPizza.LoyaltyPoints.Worker\\Program.cs\n",
      "Classifying 29/33: PlantBasedPizza.LoyaltyPoints.Worker\\Setup.cs\n",
      "Classifying 30/33: PlantBasedPizza.LoyaltyPoints.Worker\\appsettings.Development.json\n",
      "Classifying 31/33: PlantBasedPizza.LoyaltyPoints.Worker\\appsettings.json\n",
      "Classifying 32/33: PlantBasedPizza.LoyaltyPoints.Worker\\bin\\Debug\\net9.0\\appsettings.Development.json\n",
      "Classifying 33/33: PlantBasedPizza.LoyaltyPoints.Worker\\bin\\Debug\\net9.0\\appsettings.json\n",
      "Classification complete. Results saved to results\\classification\\claude4.0/output.csv\n",
      "\n",
      "=== Classification Complete ===\n",
      "Results saved to: results\\classification\\claude4.0/output.csv\n",
      "Intermediate results in: results\\classification\\claude4.0/intermediate_results\n"
     ]
    }
   ],
   "execution_count": 4
  },
  {
   "metadata": {},
   "cell_type": "code",
   "outputs": [],
   "execution_count": null,
   "source": [
    "from llms.ollama import OllamaClassifier\n",
    "\n",
    "output_csv, intermediate_results_dir = create_model_folder(\"codellama\")\n",
    "ollama_provider = OllamaClassifier(model=\"codellama:7b\", base_url=\"http://localhost:11434\")\n",
    "pipeline = ClassificationPipeline(ollama_provider,\n",
    "                                  scanner=code_scanner,\n",
    "                                  output_csv=output_csv,\n",
    "                                  intermediate_dir=intermediate_results_dir)\n",
    "\n",
    "print(\"\\n=== Running Classification with Ollama ===\")\n",
    "ollama_results = pipeline.run_classification()\n",
    "\n",
    "print(\"\\n=== Classification Complete ===\")\n",
    "print(f\"Results saved to: {output_csv}\")\n",
    "print(f\"Intermediate results in: {intermediate_results_dir}\")"
   ],
   "id": "d3d79bde7f60e666"
  },
  {
   "metadata": {},
   "cell_type": "code",
   "source": [
    "from llms.openai import OpenAIClassifier\n",
    "\n",
    "openai_key = os.getenv(\"OPENAI_API_KEY\")\n",
    "output_csv, intermediate_results_dir = create_model_folder(\"gpt4.1\")\n",
    "openai_provider = OpenAIClassifier(api_key=openai_key, model=\"gpt-4.1-2025-04-14\")\n",
    "pipeline = ClassificationPipeline(openai_provider,\n",
    "                                  scanner=code_scanner,\n",
    "                                  output_csv=output_csv,\n",
    "                                  intermediate_dir=intermediate_results_dir)\n",
    "\n",
    "print(\"\\n=== Running Classification with OpenAI ===\")\n",
    "openai_results = pipeline.run_classification()\n",
    "\n",
    "print(\"\\n=== Classification Complete ===\")\n",
    "print(f\"Results saved to: {output_csv}\")\n",
    "print(f\"Intermediate results in: {intermediate_results_dir}\")"
   ],
   "id": "92c005ff0bb816ab",
   "outputs": [],
   "execution_count": null
  }
 ],
 "metadata": {
  "kernelspec": {
   "display_name": "Python 3",
   "language": "python",
   "name": "python3"
  },
  "language_info": {
   "codemirror_mode": {
    "name": "ipython",
    "version": 2
   },
   "file_extension": ".py",
   "mimetype": "text/x-python",
   "name": "python",
   "nbconvert_exporter": "python",
   "pygments_lexer": "ipython2",
   "version": "2.7.6"
  }
 },
 "nbformat": 4,
 "nbformat_minor": 5
}
