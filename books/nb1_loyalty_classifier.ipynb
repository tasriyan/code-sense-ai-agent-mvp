{
 "cells": [
  {
   "metadata": {},
   "cell_type": "markdown",
   "source": [
    "Description:\n",
    "\n",
    "Classifies according to business and technical concerns a sample project (a microservice) PlantBasedPizza.LoyaltyPoints.\n",
    "Classfication results stored as output.csv file in classification/results folder under the name of llm that performed classification.\n",
    "\n",
    "Key Features:\n",
    "\n",
    "- LLM Provider Abstraction: Strategy pattern with OpenAI, Anthropic, and Ollama providers\n",
    "- File Scanner: Scans all 4 LoyaltyPoints projects for .cs and appsettings.json files\n",
    "- Semantic Classification: Extracts business context, rules, workflows, and integration points\n",
    "- CSV Output: Structured results for the vector database\n",
    "- Intermediate Results: JSON files for debugging and comparison\n",
    "- Provider Comparison: Test all 3 LLM providers on the same code"
   ],
   "id": "a3576c787b2c36c4"
  },
  {
   "metadata": {},
   "cell_type": "code",
   "source": [
    "from classification.code_scanner import CodeScanner\n",
    "from pathlib import Path\n",
    "from classification.classification_pipeline import ClassificationPipeline\n",
    "from dotenv import load_dotenv\n",
    "import os\n",
    "\n",
    "\n",
    "load_dotenv()\n",
    "\n",
    "LOYALTY_POINTS_APPLICATION = os.getenv(\"LOYALTY_POINTS_PROJECT_ROOT\")\n",
    "print(LOYALTY_POINTS_APPLICATION)# Update this path\n",
    "\n",
    "projects = [\n",
    "    \"PlantBasedPizza.LoyaltyPoints.Api.csproj\",\n",
    "    \"PlantBasedPizza.LoyaltyPoints.Internal.csproj\",\n",
    "    \"PlantBasedPizza.LoyaltyPoints.Shared.csproj\",\n",
    "    \"PlantBasedPizza.LoyaltyPoints.Worker.csproj\"\n",
    "]\n",
    "\n",
    "classification_results = \"results/classification\"\n",
    "def create_model_folder(model):\n",
    "    model_folder = Path(f\"{classification_results}/{model}\")\n",
    "    model_folder.mkdir(parents=True, exist_ok=True)\n",
    "\n",
    "    output_csv = f\"{model_folder}/output.csv\"\n",
    "    intermediate_results = f\"{model_folder}/intermediate_results\"\n",
    "    return output_csv, intermediate_results\n",
    "\n",
    "code_scanner = CodeScanner(LOYALTY_POINTS_APPLICATION, projects)"
   ],
   "id": "78cf5039fde3826f",
   "outputs": [],
   "execution_count": null
  },
  {
   "metadata": {},
   "cell_type": "code",
   "source": [
    "from llm_providers.anthropic import AnthropicClassifier\n",
    "\n",
    "anthropic_key = os.environ.get(\"ANTHROPIC_API_KEY\")\n",
    "output_csv, intermediate_results_dir = create_model_folder(\"claude3.5\")\n",
    "anth_provider = AnthropicClassifier(api_key=anthropic_key, model=\"claude-3-5-sonnet-latest\")\n",
    "pipeline = ClassificationPipeline(anth_provider,\n",
    "                                  scanner=code_scanner,\n",
    "                                  output_csv=output_csv,\n",
    "                                  intermediate_dir=intermediate_results_dir)\n",
    "\n",
    "print(\"\\n=== Running Classification with Anthropic ===\")\n",
    "anthropic_results = pipeline.run_classification()\n",
    "\n",
    "print(\"\\n=== Classification Complete ===\")\n",
    "print(f\"Results saved to: {output_csv}\")\n",
    "print(f\"Intermediate results in: {intermediate_results_dir}\")"
   ],
   "id": "f53c7345590db856",
   "outputs": [],
   "execution_count": null
  },
  {
   "metadata": {},
   "cell_type": "code",
   "source": [
    "from llm_providers.ollama import OllamaClassifier\n",
    "\n",
    "output_csv, intermediate_results_dir = create_model_folder(\"codellama\")\n",
    "ollama_provider = OllamaClassifier(model=\"codellama:7b\", base_url=\"http://localhost:11434\")\n",
    "pipeline = ClassificationPipeline(ollama_provider,\n",
    "                                  scanner=code_scanner,\n",
    "                                  output_csv=output_csv,\n",
    "                                  intermediate_dir=intermediate_results_dir)\n",
    "\n",
    "print(\"\\n=== Running Classification with Ollama ===\")\n",
    "ollama_results = pipeline.run_classification()\n",
    "\n",
    "print(\"\\n=== Classification Complete ===\")\n",
    "print(f\"Results saved to: {output_csv}\")\n",
    "print(f\"Intermediate results in: {intermediate_results_dir}\")"
   ],
   "id": "705db08234dfb3df",
   "outputs": [],
   "execution_count": null
  },
  {
   "metadata": {},
   "cell_type": "code",
   "source": [
    "from llm_providers.openai import OpenAIClassifier\n",
    "\n",
    "openai_key = os.getenv(\"OPENAI_API_KEY\")\n",
    "output_csv, intermediate_results_dir = create_model_folder(\"gpt4.1\")\n",
    "openai_provider = OpenAIClassifier(api_key=openai_key, model=\"gpt-4.1-2025-04-14\")\n",
    "pipeline = ClassificationPipeline(openai_provider,\n",
    "                                  scanner=code_scanner,\n",
    "                                  output_csv=output_csv,\n",
    "                                  intermediate_dir=intermediate_results_dir)\n",
    "\n",
    "print(\"\\n=== Running Classification with OpenAI ===\")\n",
    "openai_results = pipeline.run_classification()\n",
    "\n",
    "print(\"\\n=== Classification Complete ===\")\n",
    "print(f\"Results saved to: {output_csv}\")\n",
    "print(f\"Intermediate results in: {intermediate_results_dir}\")"
   ],
   "id": "92c005ff0bb816ab",
   "outputs": [],
   "execution_count": null
  }
 ],
 "metadata": {
  "kernelspec": {
   "display_name": "Python 3",
   "language": "python",
   "name": "python3"
  },
  "language_info": {
   "codemirror_mode": {
    "name": "ipython",
    "version": 2
   },
   "file_extension": ".py",
   "mimetype": "text/x-python",
   "name": "python",
   "nbconvert_exporter": "python",
   "pygments_lexer": "ipython2",
   "version": "2.7.6"
  }
 },
 "nbformat": 4,
 "nbformat_minor": 5
}
