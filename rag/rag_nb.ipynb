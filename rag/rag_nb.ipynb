{
 "cells": [
  {
   "metadata": {},
   "cell_type": "markdown",
   "source": [
    "Key Features:\n",
    "1. Basic Semantic Retrieval Testing\n",
    "- Query testing with loyalty-specific queries\n",
    "- Distance analysis for semantic similarity quality\n",
    "- Result ranking and relevance assessment\n",
    "- File and project coverage analysis\n",
    "\n",
    "2. Filtered Retrieval Testing\n",
    "- Metadata filtering by file type, project, etc.\n",
    "- Filter effectiveness measurement\n",
    "- Combined semantic + filter queries\n",
    "- Performance comparison filtered vs unfiltered\n",
    "\n",
    "3. Edge Case Testing\n",
    "- Empty queries and malformed input\n",
    "- Non-existent terms for robustness\n",
    "- Single character and stop words handling\n",
    "- Very long queries for boundary testing\n",
    "\n",
    "4. Performance Metrics\n",
    "- Retrieval success rate: % of queries returning results\n",
    "- Average distance: Semantic similarity quality\n",
    "- Query coverage: How many documents are discoverable\n",
    "- Filter effectiveness: How well filters work\n",
    "\n",
    "5. Comprehensive Analysis\n",
    "- Best/worst performing queries identification\n",
    "- Distance distribution statistics\n",
    "- File type preferences in retrieval\n",
    "- Project coverage analysis\n",
    "\n",
    "6. Test Report Generation\n",
    "- Detailed performance report with recommendations\n",
    "- JSON results for programmatic analysis\n",
    "- Human-readable summary for stakeholders\n",
    "\n",
    "Test Suite Includes:\n",
    "Basic Queries:\n",
    "\n",
    "\"loyalty points calculation rules\"\n",
    "\"order processing workflow\"\n",
    "\"customer data integration\"\n",
    "\"payment service integration\"\n",
    "\"business rule patterns\"\n",
    "\n",
    "Filtered Queries:\n",
    "\n",
    "C# files only\n",
    "Configuration files only\n",
    "Specific project filtering\n",
    "\n",
    "Interactive Testing:\n",
    "\n",
    "Real-time query testing\n",
    "Custom query exploration\n",
    "Distance feedback"
   ],
   "id": "18c36ee4601b6e88"
  },
  {
   "cell_type": "code",
   "execution_count": null,
   "id": "initial_id",
   "metadata": {
    "collapsed": true
   },
   "outputs": [],
   "source": [
    "from rag.rag_tester import RAGTester\n",
    "\n",
    "rag_tester = RAGTester()"
   ]
  },
  {
   "metadata": {},
   "cell_type": "code",
   "outputs": [],
   "execution_count": null,
   "source": [
    "# Run comprehensive test suite\n",
    "test_results = rag_tester.run_test_suite()\n",
    "# Save results\n",
    "rag_tester.save_test_results(test_results, \"rag_test_results.json\")"
   ],
   "id": "3af5908493df61a1"
  },
  {
   "metadata": {},
   "cell_type": "code",
   "outputs": [],
   "execution_count": null,
   "source": [
    "# Generate and display report\n",
    "report = rag_tester.generate_test_report(test_results)\n",
    "report"
   ],
   "id": "e3ee95713c6086ed"
  },
  {
   "metadata": {},
   "cell_type": "code",
   "outputs": [],
   "execution_count": null,
   "source": [
    "# Quick interactive testing\n",
    "print(\"\\n\" + \"=\"*60)\n",
    "print(\"INTERACTIVE TESTING\")\n",
    "print(\"=\"*60)\n",
    "print(\"Try some custom queries (type 'quit' to exit):\")\n",
    "\n",
    "while True:\n",
    "    try:\n",
    "        query = input(\"\\nEnter your query: \").strip()\n",
    "        if query.lower() in ['quit', 'exit', 'q']:\n",
    "            break\n",
    "\n",
    "        if query:\n",
    "            result = rag_tester.test_basic_retrieval(query, n_results=3)\n",
    "            print(f\"Retrieved {result['summary']['total_results']} results\")\n",
    "            print(f\"Average distance: {result['summary'].get('avg_distance', 0):.4f}\")\n",
    "\n",
    "    except KeyboardInterrupt:\n",
    "        print(\"\\nExiting...\")\n",
    "        break\n",
    "    except Exception as e:\n",
    "        print(f\"Error: {e}\")"
   ],
   "id": "1bb8897859a96d9c"
  }
 ],
 "metadata": {
  "kernelspec": {
   "display_name": "Python 3",
   "language": "python",
   "name": "python3"
  },
  "language_info": {
   "codemirror_mode": {
    "name": "ipython",
    "version": 2
   },
   "file_extension": ".py",
   "mimetype": "text/x-python",
   "name": "python",
   "nbconvert_exporter": "python",
   "pygments_lexer": "ipython2",
   "version": "2.7.6"
  }
 },
 "nbformat": 4,
 "nbformat_minor": 5
}
